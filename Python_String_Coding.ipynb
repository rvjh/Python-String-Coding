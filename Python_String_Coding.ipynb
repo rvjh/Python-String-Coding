{
  "nbformat": 4,
  "nbformat_minor": 0,
  "metadata": {
    "colab": {
      "provenance": []
    },
    "kernelspec": {
      "name": "python3",
      "display_name": "Python 3"
    },
    "language_info": {
      "name": "python"
    }
  },
  "cells": [
    {
      "cell_type": "markdown",
      "source": [
        "Write a Program To REVERSE content of the given String by using\n",
        " slice operator?"
      ],
      "metadata": {
        "id": "wERD24aUFnVY"
      }
    },
    {
      "cell_type": "code",
      "execution_count": 1,
      "metadata": {
        "colab": {
          "base_uri": "https://localhost:8080/",
          "height": 35
        },
        "id": "vtCZfg3DEtbC",
        "outputId": "7a59f3dc-f194-4d10-a050-c3376ade5298"
      },
      "outputs": [
        {
          "output_type": "execute_result",
          "data": {
            "text/plain": [
              "'nahor'"
            ],
            "application/vnd.google.colaboratory.intrinsic+json": {
              "type": "string"
            }
          },
          "metadata": {},
          "execution_count": 1
        }
      ],
      "source": [
        "def rev_str(n):\n",
        "  return n[::-1]\n",
        "\n",
        "rev_str('rohan')"
      ]
    },
    {
      "cell_type": "code",
      "source": [
        "## using reversed function\n",
        "\n",
        "def rev_str_1(n):\n",
        "  a = reversed(n)\n",
        "  a = ''.join(a)\n",
        "  return a\n",
        "\n",
        "rev_str_1('rohan')"
      ],
      "metadata": {
        "colab": {
          "base_uri": "https://localhost:8080/",
          "height": 35
        },
        "id": "81_j_4ygFyV6",
        "outputId": "43f39020-51c9-46c9-bff0-2ec5836f8d36"
      },
      "execution_count": 3,
      "outputs": [
        {
          "output_type": "execute_result",
          "data": {
            "text/plain": [
              "'nahor'"
            ],
            "application/vnd.google.colaboratory.intrinsic+json": {
              "type": "string"
            }
          },
          "metadata": {},
          "execution_count": 3
        }
      ]
    },
    {
      "cell_type": "markdown",
      "source": [
        " Write a Program To REVERSE content of the given String by using\n",
        " while loop?"
      ],
      "metadata": {
        "id": "rbWspl9YGRO5"
      }
    },
    {
      "cell_type": "code",
      "source": [
        "def rev_str_2(n):\n",
        "  output = ''\n",
        "  i = len(n) - 1\n",
        "  while i >=0:\n",
        "    output = output + n[i]\n",
        "    i = i - 1\n",
        "  return output\n",
        "\n",
        "rev_str_2('rohan')"
      ],
      "metadata": {
        "colab": {
          "base_uri": "https://localhost:8080/",
          "height": 35
        },
        "id": "2nss81FUGJ_A",
        "outputId": "8b095464-2ae6-4929-9585-0147d7d06b33"
      },
      "execution_count": 4,
      "outputs": [
        {
          "output_type": "execute_result",
          "data": {
            "text/plain": [
              "'nahor'"
            ],
            "application/vnd.google.colaboratory.intrinsic+json": {
              "type": "string"
            }
          },
          "metadata": {},
          "execution_count": 4
        }
      ]
    },
    {
      "cell_type": "markdown",
      "source": [
        "Write a Program To REVERSE order of words present in the given\n",
        " string?"
      ],
      "metadata": {
        "id": "WRkfLikxG8up"
      }
    },
    {
      "cell_type": "code",
      "source": [
        "def rev_str_3(n):\n",
        "  a = n.split()\n",
        "  b = a[::-1]\n",
        "  output = ' '.join(b)\n",
        "  return output\n",
        "\n",
        "rev_str_3('Learning Python Is Very Easy')"
      ],
      "metadata": {
        "colab": {
          "base_uri": "https://localhost:8080/",
          "height": 35
        },
        "id": "FfG4Tv_mGyh6",
        "outputId": "5de6e636-f262-4846-cb75-7dd46bbf82c1"
      },
      "execution_count": 6,
      "outputs": [
        {
          "output_type": "execute_result",
          "data": {
            "text/plain": [
              "'Easy Very Is Python Learning'"
            ],
            "application/vnd.google.colaboratory.intrinsic+json": {
              "type": "string"
            }
          },
          "metadata": {},
          "execution_count": 6
        }
      ]
    },
    {
      "cell_type": "markdown",
      "source": [
        " Write a Program To REVERSE internal content of each word?"
      ],
      "metadata": {
        "id": "5r04x9AMHb7y"
      }
    },
    {
      "cell_type": "code",
      "source": [
        "def rev_str_3(n):\n",
        "  a = n.split()\n",
        "  b = []\n",
        "  for i in a:\n",
        "    b.append(i[::-1])\n",
        "  output = ' '.join(b)\n",
        "  return output\n",
        "\n",
        "rev_str_3('Learning Python Is Very Easy')"
      ],
      "metadata": {
        "colab": {
          "base_uri": "https://localhost:8080/",
          "height": 35
        },
        "id": "pRRISInnHVNO",
        "outputId": "4d709199-9520-431f-abd3-2b75df3ef975"
      },
      "execution_count": 8,
      "outputs": [
        {
          "output_type": "execute_result",
          "data": {
            "text/plain": [
              "'gninraeL nohtyP sI yreV ysaE'"
            ],
            "application/vnd.google.colaboratory.intrinsic+json": {
              "type": "string"
            }
          },
          "metadata": {},
          "execution_count": 8
        }
      ]
    },
    {
      "cell_type": "markdown",
      "source": [
        "Write a Program To REVERSE internal content of every second\n",
        " word present in the given string?"
      ],
      "metadata": {
        "id": "uIFUG8lVIH6I"
      }
    },
    {
      "cell_type": "code",
      "source": [
        "def rev_str_4(n):\n",
        "  a = n.split()\n",
        "  b = []\n",
        "  i = 0\n",
        "  while i < len(a):\n",
        "    if i % 2== 0:\n",
        "      b.append(a[i])\n",
        "    else:\n",
        "      b.append(a[i][::-1])\n",
        "    i = i + 1\n",
        "  output = ' '.join(b)\n",
        "  return output\n",
        "\n",
        "rev_str_4('Learning Python Is Very Easy')"
      ],
      "metadata": {
        "colab": {
          "base_uri": "https://localhost:8080/",
          "height": 35
        },
        "id": "9uBOu_ElHkzX",
        "outputId": "e280df86-efae-45f6-f29a-ef9e6c0f6765"
      },
      "execution_count": 9,
      "outputs": [
        {
          "output_type": "execute_result",
          "data": {
            "text/plain": [
              "'Learning nohtyP Is yreV Easy'"
            ],
            "application/vnd.google.colaboratory.intrinsic+json": {
              "type": "string"
            }
          },
          "metadata": {},
          "execution_count": 9
        }
      ]
    },
    {
      "cell_type": "code",
      "source": [],
      "metadata": {
        "id": "9t04j6xhJSkQ"
      },
      "execution_count": null,
      "outputs": []
    }
  ]
}