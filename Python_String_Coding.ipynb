{
  "nbformat": 4,
  "nbformat_minor": 0,
  "metadata": {
    "colab": {
      "provenance": [],
      "authorship_tag": "ABX9TyNb8Y8mVSBe7NUULvc2PQkI",
      "include_colab_link": true
    },
    "kernelspec": {
      "name": "python3",
      "display_name": "Python 3"
    },
    "language_info": {
      "name": "python"
    }
  },
  "cells": [
    {
      "cell_type": "markdown",
      "metadata": {
        "id": "view-in-github",
        "colab_type": "text"
      },
      "source": [
        "<a href=\"https://colab.research.google.com/github/rvjh/Python-String-Coding/blob/main/Python_String_Coding.ipynb\" target=\"_parent\"><img src=\"https://colab.research.google.com/assets/colab-badge.svg\" alt=\"Open In Colab\"/></a>"
      ]
    },
    {
      "cell_type": "markdown",
      "source": [
        "Write a Program To REVERSE content of the given String by using\n",
        " slice operator?"
      ],
      "metadata": {
        "id": "wERD24aUFnVY"
      }
    },
    {
      "cell_type": "code",
      "execution_count": 1,
      "metadata": {
        "colab": {
          "base_uri": "https://localhost:8080/",
          "height": 35
        },
        "id": "vtCZfg3DEtbC",
        "outputId": "7a59f3dc-f194-4d10-a050-c3376ade5298"
      },
      "outputs": [
        {
          "output_type": "execute_result",
          "data": {
            "text/plain": [
              "'nahor'"
            ],
            "application/vnd.google.colaboratory.intrinsic+json": {
              "type": "string"
            }
          },
          "metadata": {},
          "execution_count": 1
        }
      ],
      "source": [
        "def rev_str(n):\n",
        "  return n[::-1]\n",
        "\n",
        "rev_str('rohan')"
      ]
    },
    {
      "cell_type": "code",
      "source": [
        "## using reversed function\n",
        "\n",
        "def rev_str_1(n):\n",
        "  a = reversed(n)\n",
        "  a = ''.join(a)\n",
        "  return a\n",
        "\n",
        "rev_str_1('rohan')"
      ],
      "metadata": {
        "colab": {
          "base_uri": "https://localhost:8080/",
          "height": 35
        },
        "id": "81_j_4ygFyV6",
        "outputId": "43f39020-51c9-46c9-bff0-2ec5836f8d36"
      },
      "execution_count": 3,
      "outputs": [
        {
          "output_type": "execute_result",
          "data": {
            "text/plain": [
              "'nahor'"
            ],
            "application/vnd.google.colaboratory.intrinsic+json": {
              "type": "string"
            }
          },
          "metadata": {},
          "execution_count": 3
        }
      ]
    },
    {
      "cell_type": "markdown",
      "source": [
        " Write a Program To REVERSE content of the given String by using\n",
        " while loop?"
      ],
      "metadata": {
        "id": "rbWspl9YGRO5"
      }
    },
    {
      "cell_type": "code",
      "source": [
        "def rev_str_2(n):\n",
        "  output = ''\n",
        "  i = len(n) - 1\n",
        "  while i >=0:\n",
        "    output = output + n[i]\n",
        "    i = i - 1\n",
        "  return output\n",
        "\n",
        "rev_str_2('rohan')"
      ],
      "metadata": {
        "colab": {
          "base_uri": "https://localhost:8080/",
          "height": 35
        },
        "id": "2nss81FUGJ_A",
        "outputId": "8b095464-2ae6-4929-9585-0147d7d06b33"
      },
      "execution_count": 4,
      "outputs": [
        {
          "output_type": "execute_result",
          "data": {
            "text/plain": [
              "'nahor'"
            ],
            "application/vnd.google.colaboratory.intrinsic+json": {
              "type": "string"
            }
          },
          "metadata": {},
          "execution_count": 4
        }
      ]
    },
    {
      "cell_type": "markdown",
      "source": [
        "Write a Program To REVERSE order of words present in the given\n",
        " string?"
      ],
      "metadata": {
        "id": "WRkfLikxG8up"
      }
    },
    {
      "cell_type": "code",
      "source": [
        "def rev_str_3(n):\n",
        "  a = n.split()\n",
        "  b = a[::-1]\n",
        "  output = ' '.join(b)\n",
        "  return output\n",
        "\n",
        "rev_str_3('Learning Python Is Very Easy')"
      ],
      "metadata": {
        "colab": {
          "base_uri": "https://localhost:8080/",
          "height": 35
        },
        "id": "FfG4Tv_mGyh6",
        "outputId": "5de6e636-f262-4846-cb75-7dd46bbf82c1"
      },
      "execution_count": 6,
      "outputs": [
        {
          "output_type": "execute_result",
          "data": {
            "text/plain": [
              "'Easy Very Is Python Learning'"
            ],
            "application/vnd.google.colaboratory.intrinsic+json": {
              "type": "string"
            }
          },
          "metadata": {},
          "execution_count": 6
        }
      ]
    },
    {
      "cell_type": "markdown",
      "source": [
        " Write a Program To REVERSE internal content of each word?"
      ],
      "metadata": {
        "id": "5r04x9AMHb7y"
      }
    },
    {
      "cell_type": "code",
      "source": [
        "def rev_str_3(n):\n",
        "  a = n.split()\n",
        "  b = []\n",
        "  for i in a:\n",
        "    b.append(i[::-1])\n",
        "  output = ' '.join(b)\n",
        "  return output\n",
        "\n",
        "rev_str_3('Learning Python Is Very Easy')"
      ],
      "metadata": {
        "colab": {
          "base_uri": "https://localhost:8080/",
          "height": 35
        },
        "id": "pRRISInnHVNO",
        "outputId": "4d709199-9520-431f-abd3-2b75df3ef975"
      },
      "execution_count": 8,
      "outputs": [
        {
          "output_type": "execute_result",
          "data": {
            "text/plain": [
              "'gninraeL nohtyP sI yreV ysaE'"
            ],
            "application/vnd.google.colaboratory.intrinsic+json": {
              "type": "string"
            }
          },
          "metadata": {},
          "execution_count": 8
        }
      ]
    },
    {
      "cell_type": "markdown",
      "source": [
        "Write a Program To REVERSE internal content of every second\n",
        " word present in the given string?"
      ],
      "metadata": {
        "id": "uIFUG8lVIH6I"
      }
    },
    {
      "cell_type": "code",
      "source": [
        "def rev_str_4(n):\n",
        "  a = n.split()\n",
        "  b = []\n",
        "  i = 0\n",
        "  while i < len(a):\n",
        "    if i % 2== 0:\n",
        "      b.append(a[i])\n",
        "    else:\n",
        "      b.append(a[i][::-1])\n",
        "    i = i + 1\n",
        "  output = ' '.join(b)\n",
        "  return output\n",
        "\n",
        "rev_str_4('Learning Python Is Very Easy')"
      ],
      "metadata": {
        "colab": {
          "base_uri": "https://localhost:8080/",
          "height": 35
        },
        "id": "9uBOu_ElHkzX",
        "outputId": "e280df86-efae-45f6-f29a-ef9e6c0f6765"
      },
      "execution_count": 9,
      "outputs": [
        {
          "output_type": "execute_result",
          "data": {
            "text/plain": [
              "'Learning nohtyP Is yreV Easy'"
            ],
            "application/vnd.google.colaboratory.intrinsic+json": {
              "type": "string"
            }
          },
          "metadata": {},
          "execution_count": 9
        }
      ]
    },
    {
      "cell_type": "markdown",
      "source": [
        "Write a program to print the characters present at even index and\n",
        " odd index seperately for the given string?\n"
      ],
      "metadata": {
        "id": "xrz_28phLyT5"
      }
    },
    {
      "cell_type": "code",
      "source": [
        "s=input('Enter Input String:')\n",
        "print('Characters present at Even Index:')\n",
        "i=0\n",
        "while i<len(s):\n",
        "  print(s[i])\n",
        "  i=i+2\n",
        "print('Characters present at Odd Index:')\n",
        "i=1\n",
        "while i<len(s):\n",
        "  print(s[i])\n",
        "  i=i+2 "
      ],
      "metadata": {
        "colab": {
          "base_uri": "https://localhost:8080/"
        },
        "id": "9t04j6xhJSkQ",
        "outputId": "81b5b726-1983-4c4e-8e34-a0872eb0829c"
      },
      "execution_count": 10,
      "outputs": [
        {
          "output_type": "stream",
          "name": "stdout",
          "text": [
            "Enter Input String:rohandas\n",
            "Characters present at Even Index:\n",
            "r\n",
            "h\n",
            "n\n",
            "a\n",
            "Characters present at Odd Index:\n",
            "o\n",
            "a\n",
            "d\n",
            "s\n"
          ]
        }
      ]
    },
    {
      "cell_type": "code",
      "source": [
        "s=input('Enter Input String:')\n",
        "print('Characters present at Even Index:',s[0::2])\n",
        "print('Characters present at Even Index:',s[::2])\n",
        "print('Characters present at Odd Index:',s[1::2]) "
      ],
      "metadata": {
        "colab": {
          "base_uri": "https://localhost:8080/"
        },
        "id": "fxXR7hMmMDsF",
        "outputId": "180e4512-6bff-4d23-bc66-96c729660c22"
      },
      "execution_count": 11,
      "outputs": [
        {
          "output_type": "stream",
          "name": "stdout",
          "text": [
            "Enter Input String:rohandas\n",
            "Characters present at Even Index: rhna\n",
            "Characters present at Even Index: rhna\n",
            "Characters present at Odd Index: oads\n"
          ]
        }
      ]
    },
    {
      "cell_type": "markdown",
      "source": [
        " Write a program to merge characters of 2 strings into a single\n",
        " string by taking characters alternatively?"
      ],
      "metadata": {
        "id": "jCbj8adZMV4Z"
      }
    },
    {
      "cell_type": "code",
      "source": [
        "s1='RAVI'\n",
        "s2='TEJA'\n",
        "output=''\n",
        "i,j=0,0\n",
        "while i<len(s1) or j<len(s2):\n",
        "  output=output+s1[i]+s2[j]\n",
        "  i=i+1\n",
        "  j=j+1\n",
        "print(output)"
      ],
      "metadata": {
        "colab": {
          "base_uri": "https://localhost:8080/"
        },
        "id": "OIF8sIxKMNZe",
        "outputId": "5d6fa0bb-7169-452c-9032-67078fcd91b2"
      },
      "execution_count": 12,
      "outputs": [
        {
          "output_type": "stream",
          "name": "stdout",
          "text": [
            "RTAEVJIA\n"
          ]
        }
      ]
    },
    {
      "cell_type": "code",
      "source": [
        "s1='RAVI'\n",
        "s2='TEJA'\n",
        "l=list(map(lambda x,y:x+y,s1,s2))\n",
        "print(''.join(l))"
      ],
      "metadata": {
        "colab": {
          "base_uri": "https://localhost:8080/"
        },
        "id": "wGBEzPpGMgW0",
        "outputId": "fa1f6172-ac71-4901-ddb9-4b2ca816a26a"
      },
      "execution_count": 13,
      "outputs": [
        {
          "output_type": "stream",
          "name": "stdout",
          "text": [
            "RTAEVJIA\n"
          ]
        }
      ]
    },
    {
      "cell_type": "markdown",
      "source": [
        "Assume input string contains only alphabet symbols and digits.\n",
        " Write a program to sort characters of the string, first alphabet\n",
        " symbols followed by digits?"
      ],
      "metadata": {
        "id": "vNZ1EHusMsgn"
      }
    },
    {
      "cell_type": "code",
      "source": [
        "s='B4A1D3'\n",
        "alphabets=''\n",
        "digits=''\n",
        "for ch in s:\n",
        "  if ch.isalpha():\n",
        "    alphabets+=ch\n",
        "  else:\n",
        "    digits+=ch\n",
        "output=''\n",
        "for ch in sorted(alphabets):\n",
        "  output=output+ch\n",
        "for ch in sorted(digits):\n",
        "  output=output+ch\n",
        "print(output)"
      ],
      "metadata": {
        "colab": {
          "base_uri": "https://localhost:8080/"
        },
        "id": "_-XmpErEMmQa",
        "outputId": "b93da992-9b9b-45ea-fd42-a25cb020b2bf"
      },
      "execution_count": 14,
      "outputs": [
        {
          "output_type": "stream",
          "name": "stdout",
          "text": [
            "ABD134\n"
          ]
        }
      ]
    },
    {
      "cell_type": "markdown",
      "source": [
        "Write a program for the following requirement?\n",
        "\n",
        "input: a3z2b4\n",
        "\n",
        "output: aaabbbbzz (sorted String) "
      ],
      "metadata": {
        "id": "RyunJsVsNJFq"
      }
    },
    {
      "cell_type": "code",
      "source": [
        "s=input('Enter Some String where alphabet symbol should be followed by digit:')\n",
        "target=''\n",
        "for ch in s:\n",
        "  if ch.isalpha():\n",
        "    x=ch\n",
        "  else:\n",
        "    d=int(ch)\n",
        "    target=target+x*d\n",
        "output = ''.join(sorted(target))\n",
        "print(output) "
      ],
      "metadata": {
        "colab": {
          "base_uri": "https://localhost:8080/",
          "height": 252
        },
        "id": "sHtk_IM-NBCh",
        "outputId": "6da56096-0a2c-47bc-ef46-180505b8c2fe"
      },
      "execution_count": 15,
      "outputs": [
        {
          "name": "stdout",
          "output_type": "stream",
          "text": [
            "Enter Some String where alphabet symbol should be followed by digit: a3z2b4\n"
          ]
        },
        {
          "output_type": "error",
          "ename": "ValueError",
          "evalue": "ignored",
          "traceback": [
            "\u001b[0;31m---------------------------------------------------------------------------\u001b[0m",
            "\u001b[0;31mValueError\u001b[0m                                Traceback (most recent call last)",
            "\u001b[0;32m<ipython-input-15-31b5d68fbfab>\u001b[0m in \u001b[0;36m<module>\u001b[0;34m\u001b[0m\n\u001b[1;32m      5\u001b[0m     \u001b[0mx\u001b[0m\u001b[0;34m=\u001b[0m\u001b[0mch\u001b[0m\u001b[0;34m\u001b[0m\u001b[0;34m\u001b[0m\u001b[0m\n\u001b[1;32m      6\u001b[0m   \u001b[0;32melse\u001b[0m\u001b[0;34m:\u001b[0m\u001b[0;34m\u001b[0m\u001b[0;34m\u001b[0m\u001b[0m\n\u001b[0;32m----> 7\u001b[0;31m     \u001b[0md\u001b[0m\u001b[0;34m=\u001b[0m\u001b[0mint\u001b[0m\u001b[0;34m(\u001b[0m\u001b[0mch\u001b[0m\u001b[0;34m)\u001b[0m\u001b[0;34m\u001b[0m\u001b[0;34m\u001b[0m\u001b[0m\n\u001b[0m\u001b[1;32m      8\u001b[0m     \u001b[0mtarget\u001b[0m\u001b[0;34m=\u001b[0m\u001b[0mtarget\u001b[0m\u001b[0;34m+\u001b[0m\u001b[0mx\u001b[0m\u001b[0;34m*\u001b[0m\u001b[0md\u001b[0m\u001b[0;34m\u001b[0m\u001b[0;34m\u001b[0m\u001b[0m\n\u001b[1;32m      9\u001b[0m \u001b[0moutput\u001b[0m \u001b[0;34m=\u001b[0m \u001b[0;34m''\u001b[0m\u001b[0;34m.\u001b[0m\u001b[0mjoin\u001b[0m\u001b[0;34m(\u001b[0m\u001b[0msorted\u001b[0m\u001b[0;34m(\u001b[0m\u001b[0mtarget\u001b[0m\u001b[0;34m)\u001b[0m\u001b[0;34m)\u001b[0m\u001b[0;34m\u001b[0m\u001b[0;34m\u001b[0m\u001b[0m\n",
            "\u001b[0;31mValueError\u001b[0m: invalid literal for int() with base 10: ' '"
          ]
        }
      ]
    },
    {
      "cell_type": "code",
      "source": [],
      "metadata": {
        "id": "w8rYqJKgOB2F"
      },
      "execution_count": null,
      "outputs": []
    }
  ]
}